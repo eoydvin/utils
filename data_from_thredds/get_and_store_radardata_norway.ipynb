{
 "cells": [
  {
   "cell_type": "markdown",
   "id": "e3e96a97-4ad5-4e03-9d9b-db8806e11c98",
   "metadata": {},
   "source": [
    "# Download gridded radar data from thredds"
   ]
  },
  {
   "cell_type": "code",
   "execution_count": 1,
   "id": "c9c31671-c144-43a1-a250-738470c420f5",
   "metadata": {},
   "outputs": [],
   "source": [
    "import pandas as pd\n",
    "import datetime\n",
    "import numpy as np\n",
    "import xarray as xr\n",
    "import netCDF4\n",
    "import matplotlib.pyplot as plt\n",
    "import tqdm"
   ]
  },
  {
   "cell_type": "markdown",
   "id": "3c678525-8df9-4cc6-b636-7214bb81ba08",
   "metadata": {},
   "source": [
    "### challenges: \n",
    "- takes alot of time, so the script must be able to restart from crash\n",
    "    - store latest successfully stored datetime\n",
    "    - create netcdf first, save iteratively\n",
    "- takes alot of data, allocate before running the loop\n",
    "    - store as int in multiplies of 100"
   ]
  },
  {
   "cell_type": "code",
   "execution_count": 2,
   "id": "0a2fb97a-cf57-4c66-845b-2cd4a80f64b2",
   "metadata": {},
   "outputs": [],
   "source": [
    "start = '2021-12-01'\n",
    "end = '2021-12-31'\n",
    "time = pd.date_range(start, end, freq=\"5min\").time\n",
    "\n",
    "# days to iterate\n",
    "days = []\n",
    "for day in pd.date_range(start, end).tolist():\n",
    "    days.append(day)"
   ]
  },
  {
   "cell_type": "markdown",
   "id": "451387d3-73a2-4c84-9593-f4758eae4d8f",
   "metadata": {},
   "source": [
    "# Download daily raw files"
   ]
  },
  {
   "cell_type": "code",
   "execution_count": 3,
   "id": "6be06d9b-f3c9-4c0f-ab42-c4c7076ac712",
   "metadata": {},
   "outputs": [],
   "source": [
    "# download metadata\n",
    "link = 'https://thredds.met.no/thredds/dodsC/remotesensing/reflectivity-nordic/2021/12/yrwms-nordic.mos.pcappi-0-dbz.noclass-clfilter-novpr-clcorr-block.nordiclcc-1000.20211231.nc'\n",
    "ds = netCDF4.Dataset(link)\n",
    "lat_norway = ds['lat'][:].data\n",
    "lon_norway = ds['lon'][:].data\n",
    "block_norway = ds['block_percent'][:].data\n",
    "\n",
    "# save\n",
    "np.save('/media/erlend/a7db2311-330d-408b-b1d2-57343136083f/radar_winter_2021/lat_norway', lat_norway)\n",
    "np.save('/media/erlend/a7db2311-330d-408b-b1d2-57343136083f/radar_winter_2021/lon_norway', lon_norway)\n",
    "np.save('/media/erlend/a7db2311-330d-408b-b1d2-57343136083f/radar_winter_2021/block_norway', block_norway[0])\n",
    "ds.close()"
   ]
  },
  {
   "cell_type": "code",
   "execution_count": 4,
   "id": "09da6222-d40f-4be1-b92b-5f52777b1268",
   "metadata": {},
   "outputs": [
    {
     "name": "stderr",
     "output_type": "stream",
     "text": [
      "  0%|                                                                                                                  | 0/31 [00:00<?, ?it/s]/tmp/ipykernel_3980736/572188711.py:20: RuntimeWarning: overflow encountered in cast\n",
      "  precipitation = ds.variables['lwe_precipitation_rate'][:, :, :].data.astype('float16')\n",
      "100%|██████████████████████████████████████████████████████████████████████████████████████████████████████| 31/31 [1:48:56<00:00, 210.84s/it]\n"
     ]
    }
   ],
   "source": [
    "# Download day by day arrays\n",
    "# For through days:\n",
    "time_ind_current = 0\n",
    "time_error = [] # retry these afterwards\n",
    "days_iterate = days[time_ind_current:]\n",
    "for date in tqdm.tqdm(days_iterate): \n",
    "    day = date.strftime('%d')\n",
    "    month = date.strftime('%m')\n",
    "    year = date.strftime('%Y')\n",
    "    \n",
    "    # setup link to threds: \n",
    "    try:\n",
    "        link = 'https://thredds.met.no/thredds/dodsC/remotesensing/reflectivity-nordic/'+ year + '/' + month +'/yrwms-nordic.mos.pcappi-0-dbz.noclass-clfilter-novpr-clcorr-block.nordiclcc-1000.'+year+month+day+'.nc'\n",
    "        ds = netCDF4.Dataset(link)\n",
    "\n",
    "        # get times for this day\n",
    "        times = ds['time'][:].data\n",
    "\n",
    "        # download precipitation ammounts for all gridcells\n",
    "        precipitation = ds.variables['lwe_precipitation_rate'][:, :, :].data.astype('float16')\n",
    "        np.save('/media/erlend/a7db2311-330d-408b-b1d2-57343136083f/radar_winter_2021/prec_' +str(year)+str(month)+str(day), precipitation)\n",
    "        np.save('/media/erlend/a7db2311-330d-408b-b1d2-57343136083f/radar_winter_2021/times_' +str(year)+str(month)+str(day), times)\n",
    "\n",
    "    finally:\n",
    "        ds.close()\n",
    "        del precipitation\n",
    "        del times\n",
    "        del ds\n",
    "        time_error.append(date) # in case we miss something, go back"
   ]
  },
  {
   "cell_type": "code",
   "execution_count": null,
   "id": "1896f2bb-4c1a-4271-8e8b-cf8963eedab9",
   "metadata": {},
   "outputs": [],
   "source": [
    "# overflow values are discarded"
   ]
  },
  {
   "cell_type": "markdown",
   "id": "f656bbf4-792a-408a-91c7-4814cb2fd547",
   "metadata": {},
   "source": [
    "# Read daily precipitation and write to netcdf"
   ]
  },
  {
   "cell_type": "code",
   "execution_count": 3,
   "id": "6fff081b-dab5-4c63-b6c5-688007499bea",
   "metadata": {},
   "outputs": [],
   "source": [
    "import pandas as pd\n",
    "import datetime\n",
    "import numpy as np\n",
    "import xarray as xr\n",
    "import netCDF4\n",
    "import matplotlib.pyplot as plt\n",
    "import tqdm"
   ]
  },
  {
   "cell_type": "code",
   "execution_count": 4,
   "id": "02d3f3aa-3e8d-4cd4-a077-614cee38af8e",
   "metadata": {},
   "outputs": [],
   "source": [
    "lat_norway = np.load('/media/erlend/a7db2311-330d-408b-b1d2-57343136083f/radar_winter_2021/lat_norway.npy')\n",
    "lon_norway = np.load('/media/erlend/a7db2311-330d-408b-b1d2-57343136083f/radar_winter_2021/lon_norway.npy')\n",
    "block_norway = np.load('/media/erlend/a7db2311-330d-408b-b1d2-57343136083f/radar_winter_2021/block_norway.npy')"
   ]
  },
  {
   "cell_type": "code",
   "execution_count": 5,
   "id": "b7f90f80-a439-4260-982e-59ee79f0c12a",
   "metadata": {},
   "outputs": [],
   "source": [
    "# Create a new netCDF file\n",
    "dataset = netCDF4.Dataset('/media/erlend/a7db2311-330d-408b-b1d2-57343136083f/radar_winter_2021/weather_data.nc', 'w', format='NETCDF4_CLASSIC')\n",
    "\n",
    "# Define the dimensions\n",
    "time_dim = dataset.createDimension('time', None)  # the unlimited dimension (None, can be appended to)\n",
    "y_dim = dataset.createDimension('y', 2134)\n",
    "x_dim = dataset.createDimension('x', 1694)\n",
    "\n",
    "# Define the variables\n",
    "times = dataset.createVariable('time', np.float64, ('time',))\n",
    "times.units = 'minutes since 2022-01-01 00:00:00'\n",
    "times.calendar = 'gregorian'\n",
    "\n",
    "ys = dataset.createVariable('y', np.int32, ('y',))\n",
    "xs = dataset.createVariable('x', np.int32, ('x',))\n",
    "lats = dataset.createVariable('latitude', np.float32, ('y', 'x'))  # latitudes\n",
    "lons = dataset.createVariable('longitude', np.float32, ('y', 'x'))  # longitudes\n",
    "block = dataset.createVariable('block', np.float32, ('y', 'x'))  # longitudes\n",
    "values = dataset.createVariable('value', np.int16, ('time', 'y', 'x'))  # the data variable\n",
    "\n",
    "# Set the variable values\n",
    "xs[:] = np.arange(1694)\n",
    "ys[:] = np.arange(2134)\n",
    "\n",
    "lats[:, :] = lat_norway\n",
    "lons[:, :] = lon_norway\n",
    "block[:, :] = block_norway[0]\n"
   ]
  },
  {
   "cell_type": "code",
   "execution_count": 6,
   "id": "b441cae1-c76b-489c-9c72-b431a6fe375e",
   "metadata": {},
   "outputs": [
    {
     "name": "stderr",
     "output_type": "stream",
     "text": [
      "  0%|                                          | 0/31 [00:00<?, ?it/s]/tmp/ipykernel_4006447/112035007.py:10: RuntimeWarning: overflow encountered in multiply\n",
      "  precipitation = (np.load('/media/erlend/a7db2311-330d-408b-b1d2-57343136083f/radar_winter_2021/prec_' +str(year)+str(month)+str(day)+'.npy')*100).astype('int16')\n",
      "/tmp/ipykernel_4006447/112035007.py:10: RuntimeWarning: invalid value encountered in cast\n",
      "  precipitation = (np.load('/media/erlend/a7db2311-330d-408b-b1d2-57343136083f/radar_winter_2021/prec_' +str(year)+str(month)+str(day)+'.npy')*100).astype('int16')\n",
      "100%|█████████████████████████████████| 31/31 [25:20<00:00, 49.05s/it]\n"
     ]
    }
   ],
   "source": [
    "# For through days:\n",
    "i = 0\n",
    "for date in tqdm.tqdm(days): \n",
    "    day = date.strftime('%d')\n",
    "    month = date.strftime('%m')\n",
    "    year = date.strftime('%Y')\n",
    "    \n",
    "    # get times for this day\n",
    "    times_read = np.load('/media/erlend/a7db2311-330d-408b-b1d2-57343136083f/radar_winter_2021/times_' +str(year)+str(month)+str(day)+'.npy')\n",
    "    precipitation = (np.load('/media/erlend/a7db2311-330d-408b-b1d2-57343136083f/radar_winter_2021/prec_' +str(year)+str(month)+str(day)+'.npy')*100).astype('int16')\n",
    "    isnan = np.isnan(precipitation)\n",
    "    precipitation[isnan] == -1\n",
    "    times_read = np.array([datetime.datetime.utcfromtimestamp(i) for i in times_read])\n",
    "\n",
    "    # write to NETCDF in chunks (speeds up later reading)\n",
    "    times[i:i+len(times_read)] = netCDF4.date2num(times_read, units=times.units , calendar=times.calendar)\n",
    "    values[i:i+len(times_read), :, :] = precipitation\n",
    "    i += len(times_read)\n",
    "\n",
    "\n",
    "    \n",
    "    # # write to NETCDF\n",
    "    # for j in range(len(times_read)):\n",
    "    #     # Update the time variable\n",
    "    #     times[i] = netCDF4.date2num(times_read[j], units=times.units , calendar=times.calendar)\n",
    "    \n",
    "    #     # Load your actual image data for this time step here\n",
    "    #     values[i, :, :] = precipitation[j]\n",
    "    #     i += 1\n",
    "    \n",
    "# Close the file\n",
    "dataset.close()"
   ]
  },
  {
   "cell_type": "code",
   "execution_count": null,
   "id": "f7748d14-d93b-4675-afa2-a612f62cc628",
   "metadata": {},
   "outputs": [],
   "source": []
  }
 ],
 "metadata": {
  "kernelspec": {
   "display_name": "Python 3 (ipykernel)",
   "language": "python",
   "name": "python3"
  },
  "language_info": {
   "codemirror_mode": {
    "name": "ipython",
    "version": 3
   },
   "file_extension": ".py",
   "mimetype": "text/x-python",
   "name": "python",
   "nbconvert_exporter": "python",
   "pygments_lexer": "ipython3",
   "version": "3.11.6"
  }
 },
 "nbformat": 4,
 "nbformat_minor": 5
}
